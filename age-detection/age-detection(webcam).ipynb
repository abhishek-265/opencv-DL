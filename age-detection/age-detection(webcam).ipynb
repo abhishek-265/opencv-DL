{
 "cells": [
  {
   "cell_type": "code",
   "execution_count": 1,
   "metadata": {},
   "outputs": [],
   "source": [
    "# import the necessary packages\n",
    "from imutils.video import VideoStream\n",
    "import numpy as np\n",
    "import imutils\n",
    "import time\n",
    "import cv2\n",
    "import os"
   ]
  },
  {
   "cell_type": "code",
   "execution_count": 2,
   "metadata": {},
   "outputs": [],
   "source": [
    "def detect_and_predict_age(frame, faceNet, ageNet, minConf=0.5):\n",
    "    # define the list of age buckets our age detector will predict\n",
    "    AGE_BUCKETS = [\"(0-2)\", \"(4-6)\", \"(8-12)\", \"(15-20)\", \"(25-32)\", \"(38-43)\", \"(48-53)\", \"(60-100)\"]\n",
    "    # initialize our results list\n",
    "    results = []\n",
    "\n",
    "    (h, w) = frame.shape[:2]\n",
    "    blob = cv2.dnn.blobFromImage(frame, 1.0, (300, 300), (104.0, 177.0, 123.0))\n",
    "    # pass the blob through the network and obtain the face detections\n",
    "    faceNet.setInput(blob)\n",
    "    detections = faceNet.forward()\n",
    "    # loop over the detections\n",
    "    for i in range(0, detections.shape[2]):\n",
    "        \n",
    "        confidence = detections[0, 0, i, 2]\n",
    "        if confidence > minConf:\n",
    "            # compute the (x, y)-coordinates of the bounding box for\n",
    "            # the object\n",
    "            box = detections[0, 0, i, 3:7] * np.array([w, h, w, h])\n",
    "            (startX, startY, endX, endY) = box.astype(\"int\")\n",
    "            # extract the ROI of the face\n",
    "            face = frame[startY:endY, startX:endX]\n",
    "            # ensure the face ROI is sufficiently large\n",
    "            if face.shape[0] < 20 or face.shape[1] < 20:\n",
    "                continue\n",
    "            # construct a blob from *just* the face ROI\n",
    "            faceBlob = cv2.dnn.blobFromImage(face, 1.0, (227, 227),\n",
    "                (78.4263377603, 87.7689143744, 114.895847746), swapRB=False)\n",
    "            # make predictions on the age and find the age bucket with\n",
    "            # the largest corresponding probability\n",
    "            ageNet.setInput(faceBlob)\n",
    "            preds = ageNet.forward()\n",
    "            i = preds[0].argmax()\n",
    "            age = AGE_BUCKETS[i]\n",
    "            ageConfidence = preds[0][i]\n",
    "            # construct a dictionary consisting of both the face bounding box location along with the age \n",
    "            #prediction,then update our results list\n",
    "            d = {\n",
    "                \"loc\": (startX, startY, endX, endY),\n",
    "                \"age\": (age, ageConfidence)\n",
    "            }\n",
    "            results.append(d)\n",
    "    return results"
   ]
  },
  {
   "cell_type": "code",
   "execution_count": 3,
   "metadata": {},
   "outputs": [
    {
     "name": "stdout",
     "output_type": "stream",
     "text": [
      "[INFO] loading face detector model...\n"
     ]
    }
   ],
   "source": [
    "# load our serialized face detector model from disk\n",
    "print(\"[INFO] loading face detector model...\")\n",
    "prototxtPath = r'/home/singhabhi/Downloads/opencv-age-detection/face_detector/deploy.prototxt'\n",
    "weightsPath = r'/home/singhabhi/Downloads/opencv-age-detection/face_detector/res10_300x300_ssd_iter_140000.caffemodel'\n",
    "\n",
    "faceNet = cv2.dnn.readNet(prototxtPath, weightsPath)"
   ]
  },
  {
   "cell_type": "code",
   "execution_count": 4,
   "metadata": {},
   "outputs": [
    {
     "name": "stdout",
     "output_type": "stream",
     "text": [
      "[INFO] loading age detector model...\n"
     ]
    }
   ],
   "source": [
    "# load our serialized age detector model from disk\n",
    "print(\"[INFO] loading age detector model...\")\n",
    "prototxtPath =  r\"/home/singhabhi/Downloads/opencv-age-detection/age_detector/age_deploy.prototxt\"\n",
    "weightsPath =  r\"/home/singhabhi/Downloads/opencv-age-detection/age_detector/age_net.caffemodel\"\n",
    "\n",
    "ageNet = cv2.dnn.readNet(prototxtPath, weightsPath)"
   ]
  },
  {
   "cell_type": "code",
   "execution_count": 5,
   "metadata": {},
   "outputs": [
    {
     "name": "stdout",
     "output_type": "stream",
     "text": [
      "[INFO] starting video stream...\n"
     ]
    }
   ],
   "source": [
    "# initialize the video stream and allow the camera sensor to warm up\n",
    "print(\"[INFO] starting video stream...\")\n",
    "vs = VideoStream(src=0).start()\n",
    "time.sleep(2.0)"
   ]
  },
  {
   "cell_type": "code",
   "execution_count": null,
   "metadata": {},
   "outputs": [],
   "source": [
    "# loop over the frames from the video stream\n",
    "while True:\n",
    "    # grab the frame from the threaded video stream and resize it\n",
    "    # to have a maximum width of 400 pixels\n",
    "    frame = vs.read()\n",
    "    frame = imutils.resize(frame, width=400)\n",
    "    # detect faces in the frame, and for each face in the frame,\n",
    "    # predict the age\n",
    "    results = detect_and_predict_age(frame, faceNet, ageNet, minConf=0.5)\n",
    "    # loop over the results\n",
    "    for r in results:\n",
    "        # draw the bounding box of the face along with the associated\n",
    "        # predicted age\n",
    "        text = \"{}: {:.2f}%\".format(r[\"age\"][0], r[\"age\"][1] * 100)\n",
    "        (startX, startY, endX, endY) = r[\"loc\"]\n",
    "        y = startY - 10 if startY - 10 > 10 else startY + 10\n",
    "        cv2.rectangle(frame, (startX, startY), (endX, endY), (0, 0, 255), 2)\n",
    "        cv2.putText(frame, text, (startX, y), cv2.FONT_HERSHEY_SIMPLEX, 0.45, (0, 0, 255), 2)\n",
    "    # show the output frame\n",
    "    cv2.imshow(\"Frame\", frame)\n",
    "    key = cv2.waitKey(1) & 0xFF\n",
    "    # if the `q` key was pressed, break from the loop\n",
    "    if key == ord(\"q\"):\n",
    "        break\n",
    "# do a bit of cleanup\n",
    "cv2.destroyAllWindows()\n",
    "vs.stop()"
   ]
  },
  {
   "cell_type": "code",
   "execution_count": null,
   "metadata": {},
   "outputs": [],
   "source": []
  }
 ],
 "metadata": {
  "kernelspec": {
   "display_name": "Python 3",
   "language": "python",
   "name": "python3"
  },
  "language_info": {
   "codemirror_mode": {
    "name": "ipython",
    "version": 3
   },
   "file_extension": ".py",
   "mimetype": "text/x-python",
   "name": "python",
   "nbconvert_exporter": "python",
   "pygments_lexer": "ipython3",
   "version": "3.8.3"
  }
 },
 "nbformat": 4,
 "nbformat_minor": 4
}
