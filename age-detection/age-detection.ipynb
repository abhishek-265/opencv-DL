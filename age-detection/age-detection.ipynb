{
 "cells": [
  {
   "cell_type": "code",
   "execution_count": 1,
   "metadata": {},
   "outputs": [],
   "source": [
    "# import the necessary packages\n",
    "import numpy as np\n",
    "import cv2\n",
    "import os"
   ]
  },
  {
   "cell_type": "code",
   "execution_count": 2,
   "metadata": {},
   "outputs": [],
   "source": [
    "# define the list of age buckets our age detector will predict\n",
    "AGE_BUCKETS = [\"(0-2)\", \"(4-6)\", \"(8-12)\", \"(15-20)\", \"(25-32)\", \"(38-43)\", \"(48-53)\", \"(60-100)\"]"
   ]
  },
  {
   "cell_type": "code",
   "execution_count": 3,
   "metadata": {},
   "outputs": [
    {
     "name": "stdout",
     "output_type": "stream",
     "text": [
      "[INFO] loading face detector model...\n"
     ]
    }
   ],
   "source": [
    "# load our serialized face detector model from disk\n",
    "print(\"[INFO] loading face detector model...\")\n",
    "prototxtPath = r'/home/singhabhi/Downloads/opencv-age-detection/face_detector/deploy.prototxt'\n",
    "weightsPath = r'/home/singhabhi/Downloads/opencv-age-detection/face_detector/res10_300x300_ssd_iter_140000.caffemodel'\n",
    "\n",
    "faceNet = cv2.dnn.readNet(prototxtPath, weightsPath)"
   ]
  },
  {
   "cell_type": "code",
   "execution_count": 4,
   "metadata": {},
   "outputs": [
    {
     "name": "stdout",
     "output_type": "stream",
     "text": [
      "[INFO] loading age detector model...\n"
     ]
    }
   ],
   "source": [
    "# load our serialized age detector model from disk\n",
    "print(\"[INFO] loading age detector model...\")\n",
    "prototxtPath =  r\"/home/singhabhi/Downloads/opencv-age-detection/age_detector/age_deploy.prototxt\"\n",
    "weightsPath =  r\"/home/singhabhi/Downloads/opencv-age-detection/age_detector/age_net.caffemodel\"\n",
    "\n",
    "ageNet = cv2.dnn.readNet(prototxtPath, weightsPath)"
   ]
  },
  {
   "cell_type": "code",
   "execution_count": 5,
   "metadata": {},
   "outputs": [],
   "source": [
    "# load the input image and construct an input blob for the image\n",
    "image = cv2.imread(r\"/home/singhabhi/Pictures/IMG20190116204849.jpg\")\n",
    "(h, w) = image.shape[:2]"
   ]
  },
  {
   "cell_type": "code",
   "execution_count": 6,
   "metadata": {},
   "outputs": [
    {
     "data": {
      "text/plain": [
       "(1, 3, 300, 300)"
      ]
     },
     "execution_count": 6,
     "metadata": {},
     "output_type": "execute_result"
    }
   ],
   "source": [
    "blob = cv2.dnn.blobFromImage(cv2.resize(image, (300, 300)), 1.0, (300, 300), (104.0, 177.0, 123.0))\n",
    "blob.shape"
   ]
  },
  {
   "cell_type": "code",
   "execution_count": 7,
   "metadata": {},
   "outputs": [
    {
     "name": "stdout",
     "output_type": "stream",
     "text": [
      "[INFO] computing face detections...\n"
     ]
    }
   ],
   "source": [
    "# pass the blob through the network and obtain the face detections\n",
    "print(\"[INFO] computing face detections...\")\n",
    "faceNet.setInput(blob)\n",
    "detections = faceNet.forward()"
   ]
  },
  {
   "cell_type": "code",
   "execution_count": null,
   "metadata": {
    "scrolled": true
   },
   "outputs": [
    {
     "name": "stdout",
     "output_type": "stream",
     "text": [
      "[INFO] (25-32): 98.59%\n"
     ]
    }
   ],
   "source": [
    "# loop over the detections\n",
    "for i in range(0, detections.shape[2]):\n",
    "    confidence = detections[0, 0, i, 2]\n",
    "    if confidence > 0.5:\n",
    "        # compute the (x, y)-coordinates of the bounding box for the object\n",
    "        box = detections[0, 0, i, 3:7] * np.array([w, h, w, h])\n",
    "        (startX, startY, endX, endY) = box.astype(\"int\")\n",
    "        \n",
    "        face = image[startY:endY, startX:endX]\n",
    "        faceBlob = cv2.dnn.blobFromImage(face, 1.0, (227, 227), \n",
    "                                         (78.4263377603, 87.7689143744, 114.895847746), swapRB=False)\n",
    "        ageNet.setInput(faceBlob)\n",
    "        preds = ageNet.forward()\n",
    "        i = preds[0].argmax()\n",
    "        age = AGE_BUCKETS[i]\n",
    "        ageConfidence = preds[0][i]\n",
    "        # display the predicted age to our terminal\n",
    "        text = \"{}: {:.2f}%\".format(age, ageConfidence * 100)\n",
    "        print(\"[INFO] {}\".format(text))\n",
    "        # draw the bounding box of the face along with the associated\n",
    "        # predicted age\n",
    "        y = startY - 10 if startY - 10 > 10 else startY + 10\n",
    "        cv2.rectangle(image, (startX, startY), (endX, endY), (0, 0, 255), 2)\n",
    "        cv2.putText(image, text, (startX, y), cv2.FONT_HERSHEY_SIMPLEX, 0.45, (0, 0, 255), 2)\n",
    "# display the output image\n",
    "cv2.imshow(\"Image\", image)\n",
    "cv2.waitKey(0)"
   ]
  },
  {
   "cell_type": "code",
   "execution_count": null,
   "metadata": {},
   "outputs": [],
   "source": []
  }
 ],
 "metadata": {
  "kernelspec": {
   "display_name": "Python 3",
   "language": "python",
   "name": "python3"
  },
  "language_info": {
   "codemirror_mode": {
    "name": "ipython",
    "version": 3
   },
   "file_extension": ".py",
   "mimetype": "text/x-python",
   "name": "python",
   "nbconvert_exporter": "python",
   "pygments_lexer": "ipython3",
   "version": "3.8.3"
  }
 },
 "nbformat": 4,
 "nbformat_minor": 4
}
